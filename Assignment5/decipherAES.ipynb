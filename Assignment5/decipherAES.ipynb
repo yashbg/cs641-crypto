{
 "cells": [
  {
   "cell_type": "code",
   "execution_count": 1,
   "metadata": {},
   "outputs": [],
   "source": [
    "import numpy as np\n",
    "import random\n",
    "import sympy as sp\n",
    "from numpy.linalg import matrix_rank\n",
    "np.set_printoptions(threshold=np.inf)\n",
    "from pyfinite import ffield"
   ]
  },
  {
   "cell_type": "code",
   "execution_count": 2,
   "metadata": {},
   "outputs": [],
   "source": [
    "#Dictionaries\n",
    "dct = {'f' : [0,0,0,0],\n",
    " 'g' : [0,0,0,1],\n",
    " 'h' : [0,0,1,0],\n",
    " 'i' : [0,0,1,1],\n",
    " 'j' : [0,1,0,0],\n",
    " 'k' : [0,1,0,1],\n",
    " 'l' : [0,1,1,0],\n",
    " 'm' : [0,1,1,1],\n",
    " 'n' : [1,0,0,0],\n",
    " 'o' : [1,0,0,1],\n",
    " 'p' : [1,0,1,0],\n",
    " 'q' : [1,0,1,1],\n",
    " 'r' : [1,1,0,0],\n",
    " 's' : [1,1,0,1],\n",
    " 't' : [1,1,1,0],\n",
    " 'u' : [1,1,1,1]}\n",
    "\n",
    "inv_dict = {'0000': 'f',\n",
    " '0001': 'g',\n",
    " '0010': 'h',\n",
    " '0011': 'i',\n",
    " '0100': 'j',\n",
    " '0101': 'k',\n",
    " '0110': 'l',\n",
    " '0111': 'm',\n",
    " '1000': 'n',\n",
    " '1001': 'o',\n",
    " '1010': 'p',\n",
    " '1011': 'q',\n",
    " '1100': 'r',\n",
    " '1101': 's',\n",
    " '1110': 't',\n",
    " '1111': 'u'}"
   ]
  },
  {
   "cell_type": "code",
   "execution_count": 3,
   "metadata": {},
   "outputs": [],
   "source": [
    "#It converts byte to corresponding two charachters\n",
    "def byte_str(b):\n",
    "    binnum = '{:0>8}'.format(format(b,\"b\"))\n",
    "    a = inv_dict[binnum[0:4]], inv_dict[binnum[4:8]]\n",
    "    return a[0]+a[1]"
   ]
  },
  {
   "cell_type": "code",
   "execution_count": 4,
   "metadata": {},
   "outputs": [],
   "source": [
    "#It maps set of two charachters(byte) to it's corresponding hex value\n",
    "def map_to_str(st):\n",
    "    char = chr(16*(ord(st[0]) - ord('f')) + ord(st[1]) - ord('f'))\n",
    "    return char"
   ]
  },
  {
   "cell_type": "code",
   "execution_count": 5,
   "metadata": {},
   "outputs": [],
   "source": [
    "#It takes full block of ip eg 'fffffffffffffffg' and outputs corresponding hex list\n",
    "def block_to_byte(c):\n",
    "    plainText = \"\"\n",
    "    for i in range(0, len(c), 2):\n",
    "        plainText += map_to_str(c[i:i+2])\n",
    "    return plainText"
   ]
  },
  {
   "cell_type": "code",
   "execution_count": 6,
   "metadata": {},
   "outputs": [],
   "source": [
    "#It contains all the required functions for reuse\n",
    "#Add, Multiply,Expo, addVectors, scalarMultiplication, LinearTransformation\n",
    "exp_store = [[-1]*128 for i in range(128)]\n",
    "\n",
    "F = ffield.FField(7)\n",
    "\n",
    "def Add (n1, n2):\n",
    "    return int(n1) ^ int(n2)\n",
    "\n",
    "def Multiply (n1, n2):\n",
    "    return F.Multiply(n1, n2)\n",
    "\n",
    "def Expo (no, pow):\n",
    "    if exp_store[no][pow] != -1:\n",
    "        return exp_store[no][pow]\n",
    "\n",
    "    result = 0;\n",
    "    if pow == 0:\n",
    "        result = 1\n",
    "    elif pow == 1:\n",
    "        result = no\n",
    "    elif pow%2 == 0:\n",
    "        sqrt_no = Expo(no, pow>>1)\n",
    "        result = Multiply(sqrt_no, sqrt_no)\n",
    "    else:\n",
    "        sqrt_no = Expo(no, pow>>1)\n",
    "        result = Multiply(sqrt_no, sqrt_no)\n",
    "        result = Multiply(no, result)\n",
    "\n",
    "    exp_store[no][pow] = result\n",
    "    return result\n",
    "\n",
    "def addVectors (v1, v2):\n",
    "    result = [0]*8\n",
    "    for i, (e1, e2) in enumerate(zip(v1, v2)):\n",
    "        result[i] = Add(e1, e2)\n",
    "    return result\n",
    "\n",
    "def scalarMultiplication (v, elem):\n",
    "    result = [0]*8\n",
    "    for i, e in enumerate(v):\n",
    "        result[i] = Multiply(e, elem)\n",
    "    return result\n",
    "\n",
    "def LinearTransformation (mat, elist):\n",
    "    result = [0]*8\n",
    "    for row, elem in zip(mat, elist):\n",
    "        result = addVectors(scalarMultiplication(row, elem), result)\n",
    "    return result"
   ]
  },
  {
   "cell_type": "code",
   "execution_count": 7,
   "metadata": {},
   "outputs": [
    {
     "name": "stdout",
     "output_type": "stream",
     "text": [
      "[[[84, 8, 109], [], [], [], [], [], [], []], [[], [29, 52, 70], [], [], [], [], [], []], [[], [], [43, 14, 72], [], [], [], [], []], [[], [], [], [37, 126, 12], [], [], [], []], [[], [], [], [], [109, 112, 67], [], [], []], [[], [], [], [], [], [11, 106, 70], [], []], [[], [], [], [], [], [], [16, 27, 28], []], [[], [], [], [], [], [], [], [38, 61, 125]]]\n",
      "[[17, 41, 69], [6, 7, 114], [40, 89, 125], [22, 37, 68], [59, 90, 105], [40, 89, 125], [8, 25, 94], [15, 31, 81]]\n"
     ]
    }
   ],
   "source": [
    "#This list will consist of all possible exponents\n",
    "poss_exp = [[] for i in range(8)]\n",
    "#This list will consist of all possible diagonal values\n",
    "poss_aii = [[[] for i in range(8)] for j in range(8)]\n",
    "input_file = open(\"inputs.txt\", 'r')\n",
    "output_file = open(\"outputs.txt\", 'r')\n",
    "for ind, (iline, oline) in enumerate(zip(input_file.readlines(), output_file.readlines())):\n",
    "    inpString = []\n",
    "    outString = []\n",
    "    #Converting each input to corresponding hex values\n",
    "    for hexi in iline.strip().split(\" \"):\n",
    "        inpString.append(block_to_byte(hexi)[ind])\n",
    "    for hexo in oline.strip().split(\" \"):\n",
    "        outString.append(block_to_byte(hexo)[ind])\n",
    "        \n",
    "    for i in range(1, 127):\n",
    "        for j in range(1, 128):\n",
    "            flag = True\n",
    "            for inps, outs in zip(inpString, outString):\n",
    "                #We iterate over all possible values of ei and ajj to check if input maps to output\n",
    "                if ord(outs) != Expo(Multiply(Expo(Multiply(Expo(ord(inps), i), j), i), j), i):\n",
    "                    flag = False\n",
    "                    break\n",
    "            if flag:\n",
    "                #If yes, then we append them to corresponding possible lists\n",
    "                poss_exp[ind].append(i)\n",
    "                poss_aii[ind][ind].append(j)\n",
    "print(poss_aii)\n",
    "print(poss_exp)"
   ]
  },
  {
   "cell_type": "code",
   "execution_count": 8,
   "metadata": {},
   "outputs": [
    {
     "name": "stdout",
     "output_type": "stream",
     "text": [
      "[[[84], [125], [], [], [], [], [], []], [[], [70], [28], [], [], [], [], []], [[], [], [43], [12], [], [], [], []], [[], [], [], [12], [122], [], [], []], [[], [], [], [], [112], [101], [], []], [[], [], [], [], [], [11], [94], []], [[], [], [], [], [], [], [27], [11]], [[], [], [], [], [], [], [], [38]]]\n",
      "[[17], [114], [40], [68], [90], [40], [25], [15]]\n"
     ]
    }
   ],
   "source": [
    "input_file = open(\"inputs.txt\", 'r')\n",
    "output_file = open(\"outputs.txt\", 'r')\n",
    "for ind, (iline, oline) in enumerate(zip(input_file.readlines(), output_file.readlines())):\n",
    "    #Considering only first 6 pairs\n",
    "    if ind > 6 :\n",
    "        break\n",
    "    inpString = []\n",
    "    outString = []\n",
    "    #Converting each input to corresponding hex values\n",
    "    for hexi in iline.strip().split(\" \"):\n",
    "        inpString.append(block_to_byte(hexi)[ind]) \n",
    "    for hexo in oline.strip().split(\" \"):\n",
    "        outString.append(block_to_byte(hexo)[ind+1])\n",
    "    for i in range(1, 128):\n",
    "        #We iterate over all possible pairs of exponents and diagonal values\n",
    "        for p1, e1 in zip(poss_exp[ind+1], poss_aii[ind+1][ind+1]):\n",
    "            for p2, e2 in zip(poss_exp[ind], poss_aii[ind][ind]):\n",
    "                flag = True\n",
    "                for inp, outp in zip(inpString, outString):\n",
    "                    #We substitute the pairs ad=nd iterate over all possible values of i\n",
    "                    #We do this by forming virtual triangle (aii,aij,ajj)\n",
    "                    if ord(outp) != Expo(Add(Multiply(Expo(Multiply(Expo(ord(inp), p2), e2), p2), i) ,Multiply(Expo(Multiply(Expo(ord(inp), p2), i), p1), e1)), p1):\n",
    "                        flag = False\n",
    "                        break\n",
    "                if flag:\n",
    "                    #If we find such value, then we can discard other possibilities and finalize the lists\n",
    "                    poss_exp[ind+1] = [p1]\n",
    "                    poss_aii[ind+1][ind+1] = [e1]\n",
    "                    poss_exp[ind] = [p2]\n",
    "                    poss_aii[ind][ind] = [e2]\n",
    "                    poss_aii[ind][ind+1] = [i]\n",
    "print(poss_aii)\n",
    "print(poss_exp)"
   ]
  },
  {
   "cell_type": "code",
   "execution_count": 9,
   "metadata": {},
   "outputs": [],
   "source": [
    "#This function mimics EAEAE\n",
    "def EAEAE (plaintext, lin_mat, exp_mat):\n",
    "    plaintext = [ord(c) for c in plaintext]\n",
    "    Output = [[0 for j in range (8)] for i in range(8)]\n",
    "    for ind, elem in enumerate(plaintext):\n",
    "        Output[0][ind] = Expo(elem, exp_mat[ind])\n",
    "\n",
    "    Output[1] = LinearTransformation(lin_mat, Output[0])\n",
    "\n",
    "    for ind, elem in enumerate(Output[1]):\n",
    "        Output[2][ind] = Expo(elem, exp_mat[ind])\n",
    "\n",
    "    Output[3] = LinearTransformation(lin_mat, Output[2])\n",
    "\n",
    "    for ind, elem in enumerate(Output[3]):\n",
    "        Output[4][ind] = Expo(elem, exp_mat[ind])\n",
    "    return Output[4]"
   ]
  },
  {
   "cell_type": "code",
   "execution_count": 10,
   "metadata": {},
   "outputs": [
    {
     "name": "stdout",
     "output_type": "stream",
     "text": [
      "[[84, 125, 18, 105, 100, 24, 11, 76], [0, 70, 28, 22, 43, 39, 118, 8], [0, 0, 43, 12, 1, 19, 8, 95], [0, 0, 0, 12, 122, 46, 101, 27], [0, 0, 0, 0, 112, 101, 22, 24], [0, 0, 0, 0, 0, 11, 94, 67], [0, 0, 0, 0, 0, 0, 27, 11], [0, 0, 0, 0, 0, 0, 0, 38]]\n",
      "[17, 114, 40, 68, 90, 40, 25, 15]\n"
     ]
    }
   ],
   "source": [
    "for index in range(6):\n",
    "    #As we have already found element next to diagonal thus skipping two elements every time\n",
    "    of = index + 2\n",
    "    \n",
    "    exp_list = [e[0] for e in poss_exp]\n",
    "    lin_trans_list = [[0 for i in range(8)] for j in range(8)]\n",
    "    #We fill all the empty [] elements with 0\n",
    "    for i in range(8):\n",
    "        for j in range(8):\n",
    "            lin_trans_list[i][j] = 0 if len(poss_aii[i][j]) == 0 else poss_aii[i][j][0]\n",
    "    inp = open(\"inputs.txt\", 'r')\n",
    "    out = open(\"outputs.txt\", 'r')\n",
    "    for ind, (iline, oline) in enumerate(zip(inp.readlines(), out.readlines())):\n",
    "        if ind > (7-of):\n",
    "            continue\n",
    "        inpString = [block_to_byte(msg) for msg in iline.strip().split(\" \")]\n",
    "        outString = [block_to_byte(msg) for msg in oline.strip().split(\" \")]\n",
    "        #We iterate over all possible values of ai,j to find which one satisfies EAEAE = Output\n",
    "        for i in range(1, 128):\n",
    "            lin_trans_list[ind][ind+of] = i\n",
    "            flag = True\n",
    "            for inps, outs in zip(inpString, outString):\n",
    "                if EAEAE(inps, lin_trans_list, exp_list)[ind+of] != ord(outs[ind+of]):\n",
    "                    flag = False\n",
    "                    break\n",
    "            if flag:\n",
    "                poss_aii[ind][ind+of] = [i]\n",
    "    inp.close();\n",
    "    out.close();\n",
    "#We fill all the empty [] elements with 0\n",
    "lin_trans_list = [[0 for i in range(8)] for j in range(8)]\n",
    "for i in range(8):\n",
    "    for j in range(8):\n",
    "        lin_trans_list[i][j] = 0 if len(poss_aii[i][j]) == 0 else poss_aii[i][j][0]\n",
    "\n",
    "print(lin_trans_list)\n",
    "print(exp_list)"
   ]
  },
  {
   "cell_type": "code",
   "execution_count": 12,
   "metadata": {},
   "outputs": [],
   "source": [
    "#Final Matrices as we found them in above step\n",
    "LINEAR_MATRIX = [[84, 125, 18, 105, 100, 24, 11, 76], \n",
    "                 [0, 70, 28, 22, 43, 39, 118, 8],\n",
    "                 [0, 0, 43, 12, 1, 19, 8, 95],\n",
    "                 [0, 0, 0, 12, 122, 46, 101, 27],\n",
    "                 [0, 0, 0, 0, 112, 101, 22, 24],\n",
    "                 [0, 0, 0, 0, 0, 11, 94, 67],\n",
    "                 [0, 0, 0, 0, 0, 0, 27, 11],\n",
    "                 [0, 0, 0, 0, 0, 0, 0, 38]]\n",
    "EXPONENT_MATRIX = [17, 114, 40, 68, 90, 40, 25, 15]"
   ]
  },
  {
   "cell_type": "code",
   "execution_count": 16,
   "metadata": {},
   "outputs": [
    {
     "name": "stdout",
     "output_type": "stream",
     "text": [
      "qsqjbmrlfa\n"
     ]
    }
   ],
   "source": [
    "#Two halves of password\n",
    "password_1 = \"imhgjgfqgjlqlimg\"\n",
    "password_2 = \"hohjlugullkifkhs\"\n",
    "\n",
    "#We iterate over all possible 128 byte values and perform EAEAE to check for which input the password (half) matches\n",
    "def DecryptPassword(password):\n",
    "    passw = block_to_byte(password)\n",
    "    op = \"\"\n",
    "    for ind in range(8):\n",
    "        for ans in range(128):\n",
    "            inp = op + byte_str(ans)+(16-len(op)-2)*'f'\n",
    "            if ord(passw[ind]) == EAEAE(block_to_byte(inp), LINEAR_MATRIX, EXPONENT_MATRIX)[ind]:\n",
    "                op += byte_str(ans)\n",
    "                break\n",
    "    return op\n",
    "\n",
    "str=block_to_byte(DecryptPassword(password_1))+block_to_byte(DecryptPassword(password_2))\n",
    "print(str.strip(\"0\"))"
   ]
  },
  {
   "cell_type": "code",
   "execution_count": null,
   "metadata": {},
   "outputs": [],
   "source": []
  }
 ],
 "metadata": {
  "kernelspec": {
   "display_name": "Python 3",
   "language": "python",
   "name": "python3"
  },
  "language_info": {
   "codemirror_mode": {
    "name": "ipython",
    "version": 3
   },
   "file_extension": ".py",
   "mimetype": "text/x-python",
   "name": "python",
   "nbconvert_exporter": "python",
   "pygments_lexer": "ipython3",
   "version": "3.9.5"
  }
 },
 "nbformat": 4,
 "nbformat_minor": 2
}
